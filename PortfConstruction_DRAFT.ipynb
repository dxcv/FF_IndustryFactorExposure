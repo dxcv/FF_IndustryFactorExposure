{
 "cells": [
  {
   "cell_type": "code",
   "execution_count": 5,
   "metadata": {},
   "outputs": [
    {
     "name": "stdout",
     "output_type": "stream",
     "text": [
      "          Mkt-RF       SMB       HML       RMW       CMA       MOM\n",
      "Mkt-RF  1.000000  0.212153 -0.205727 -0.377459 -0.378396 -0.196804\n",
      "SMB     0.212153  1.000000 -0.128341 -0.460804 -0.049179  0.021427\n",
      "HML    -0.205727 -0.128341  1.000000  0.352587  0.656231 -0.200142\n",
      "RMW    -0.377459 -0.460804  0.352587  1.000000  0.207063  0.081426\n",
      "CMA    -0.378396 -0.049179  0.656231  0.207063  1.000000  0.048436\n",
      "MOM    -0.196804  0.021427 -0.200142  0.081426  0.048436  1.000000\n",
      "          Mkt-RF       SMB       HML       MOM\n",
      "Mkt-RF  1.000000  0.212153 -0.205727 -0.196804\n",
      "SMB     0.212153  1.000000 -0.128341  0.021427\n",
      "HML    -0.205727 -0.128341  1.000000 -0.200142\n",
      "MOM    -0.196804  0.021427 -0.200142  1.000000\n"
     ]
    }
   ],
   "source": [
    "import pandas as pd\n",
    "import matplotlib as mat\n",
    "from matplotlib.pyplot import plot as plt \n",
    "import numpy as np\n",
    "import statsmodels.api as sm\n",
    "import sklearn as sk\n",
    "import pickle\n",
    "%matplotlib inline \n",
    "\n",
    "\n",
    "df_dic= pickle.load( open( 'df_dic.p', 'rb'))\n",
    "industry_ret= df_dic[ 'industry_ret']/100\n",
    "factor_ret6= df_dic[ 'factor_ret'] /100\n",
    "RF= factor_ret6['RF']\n",
    "factor_ret6= factor_ret6[['Mkt-RF', 'SMB', 'HML', 'RMW', 'CMA', 'MOM']]\n",
    "factor_ret4= factor_ret6[['Mkt-RF', 'SMB', 'HML', 'MOM']]\n",
    "# df_dic[ 'factor_ret'].head(10) / 100\n",
    "\n"
   ]
  },
  {
   "cell_type": "code",
   "execution_count": null,
   "metadata": {},
   "outputs": [],
   "source": []
  },
  {
   "cell_type": "code",
   "execution_count": null,
   "metadata": {
    "collapsed": true
   },
   "outputs": [],
   "source": []
  },
  {
   "cell_type": "code",
   "execution_count": null,
   "metadata": {
    "collapsed": true
   },
   "outputs": [],
   "source": []
  },
  {
   "cell_type": "code",
   "execution_count": null,
   "metadata": {
    "collapsed": true
   },
   "outputs": [],
   "source": []
  },
  {
   "cell_type": "code",
   "execution_count": null,
   "metadata": {
    "collapsed": true
   },
   "outputs": [],
   "source": []
  },
  {
   "cell_type": "code",
   "execution_count": null,
   "metadata": {
    "collapsed": true
   },
   "outputs": [],
   "source": []
  }
 ],
 "metadata": {
  "kernelspec": {
   "display_name": "Python 3",
   "language": "python",
   "name": "python3"
  },
  "language_info": {
   "codemirror_mode": {
    "name": "ipython",
    "version": 3
   },
   "file_extension": ".py",
   "mimetype": "text/x-python",
   "name": "python",
   "nbconvert_exporter": "python",
   "pygments_lexer": "ipython3",
   "version": "3.5.3"
  }
 },
 "nbformat": 4,
 "nbformat_minor": 2
}
